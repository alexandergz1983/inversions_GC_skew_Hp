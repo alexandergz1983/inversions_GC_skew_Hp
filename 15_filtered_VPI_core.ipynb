{
 "cells": [
  {
   "cell_type": "code",
   "execution_count": 1,
   "metadata": {},
   "outputs": [
    {
     "name": "stdout",
     "output_type": "stream",
     "text": [
      "Se encontraron 74 filas que coinciden.\n",
      "Número de nombres no encontrados: 0\n"
     ]
    }
   ],
   "source": [
    "import pandas as pd\n",
    "\n",
    "# Cargar la lista de nombres de genes desde el archivo txt\n",
    "with open('/Volumes/16GB/laura_mesa/Gene_inversion/220225/dn_ds_220225/list_core_filter.txt', 'r') as f:\n",
    "    gene_names = [line.strip() for line in f if line.strip()]\n",
    "\n",
    "# Convertir los nombres de genes a minúsculas para la comparación\n",
    "gene_names_lower = [gene.lower() for gene in gene_names]\n",
    "\n",
    "# Cargar el archivo Excel\n",
    "df = pd.read_excel('/Volumes/16GB/laura_mesa/Gene_inversion/220225/dn_ds_220225/dn_ds_1155_dnds_ps2.xlsx')\n",
    "\n",
    "# Convertir la columna GENENAME a minúsculas para la comparación\n",
    "df['GENENAME_lower'] = df['GENENAME'].str.lower()\n",
    "\n",
    "# Filtrar las filas donde la columna 'GENENAME_lower' se encuentre en la lista de nombres en minúsculas\n",
    "filtered_df = df[df['GENENAME_lower'].isin(gene_names_lower)].copy()\n",
    "\n",
    "# Guardar el DataFrame filtrado en un nuevo archivo Excel\n",
    "filtered_df.to_excel('/Volumes/16GB/laura_mesa/Gene_inversion/220225/dn_ds_220225/filtered_data_VPI.xlsx', index=False)\n",
    "\n",
    "# V: virulence\n",
    "# P: pathogenicity\n",
    "# I: Infectivity\n",
    "\n",
    "# Contar cuántas filas se encontraron\n",
    "found_count = filtered_df.shape[0]\n",
    "print(f'Se encontraron {found_count} filas que coinciden.')\n",
    "\n",
    "# Determinar los nombres de genes que no se encontraron en la columna 'GENENAME_lower' del Excel\n",
    "excel_genenames_lower = set(df['GENENAME_lower'])\n",
    "not_found = [gene for gene in gene_names if gene.lower() not in excel_genenames_lower]\n",
    "\n",
    "# Guardar la lista de genes no encontrados en un archivo txt\n",
    "with open('/Volumes/16GB/laura_mesa/Gene_inversion/220225/dn_ds_220225/not_found.txt', 'w') as f:\n",
    "    f.write('\\n'.join(not_found))\n",
    "\n",
    "print(f'Número de nombres no encontrados: {len(not_found)}')\n"
   ]
  }
 ],
 "metadata": {
  "kernelspec": {
   "display_name": "py39",
   "language": "python",
   "name": "python3"
  },
  "language_info": {
   "codemirror_mode": {
    "name": "ipython",
    "version": 3
   },
   "file_extension": ".py",
   "mimetype": "text/x-python",
   "name": "python",
   "nbconvert_exporter": "python",
   "pygments_lexer": "ipython3",
   "version": "3.9.13"
  }
 },
 "nbformat": 4,
 "nbformat_minor": 2
}
